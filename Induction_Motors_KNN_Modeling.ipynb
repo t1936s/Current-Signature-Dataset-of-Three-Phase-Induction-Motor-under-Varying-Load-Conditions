{
 "cells": [
  {
   "cell_type": "markdown",
   "id": "c050a7f9",
   "metadata": {},
   "source": [
    "# Loading Liberaries"
   ]
  },
  {
   "cell_type": "code",
   "execution_count": 44,
   "id": "19316e54",
   "metadata": {},
   "outputs": [],
   "source": [
    "import os\n",
    "import pandas as pd\n",
    "import numpy as np"
   ]
  },
  {
   "cell_type": "code",
   "execution_count": 334,
   "id": "6dde91a7",
   "metadata": {},
   "outputs": [],
   "source": [
    "from sklearn.preprocessing import LabelEncoder\n",
    "from sklearn.neighbors import KNeighborsClassifier\n",
    "from sklearn.metrics import accuracy_score\n",
    "from sklearn.model_selection import cross_val_score\n",
    "from sklearn.model_selection import train_test_split, cross_val_score, KFold\n",
    "\n",
    "from sklearn.decomposition import PCA\n",
    "\n",
    "from sklearn.preprocessing import StandardScaler\n",
    "from sklearn.model_selection import train_test_split\n",
    "from sklearn.preprocessing import LabelEncoder\n",
    "from sklearn.metrics import accuracy_score, precision_score, recall_score, f1_score, confusion_matrix, classification_report"
   ]
  },
  {
   "cell_type": "code",
   "execution_count": 73,
   "id": "288fed03",
   "metadata": {},
   "outputs": [],
   "source": [
    "import seaborn as sns\n",
    "import matplotlib.pyplot as plt"
   ]
  },
  {
   "cell_type": "markdown",
   "id": "1ea129a0",
   "metadata": {},
   "source": [
    "# Pre-Processing Dataset"
   ]
  },
  {
   "cell_type": "markdown",
   "id": "4eca65de",
   "metadata": {},
   "source": [
    "### Question#1: You have to implement K-NN algorithm on the above-mentioned dataset with the following steps:"
   ]
  },
  {
   "cell_type": "markdown",
   "id": "4acb1fa0",
   "metadata": {},
   "source": [
    "* Data preprocessing: In the dataset, the total number of samples in each file are more\n",
    "  than 100,000 and any block of 1000 samples can be used to label the corresponding\n",
    "  healthy and unhealthy output. Create a new csv file for training and testing your\n",
    "  model in which each row containing 1000 samples with assignment of the output\n",
    "  label healthy/unhealthy."
   ]
  },
  {
   "cell_type": "code",
   "execution_count": 6,
   "id": "2fff22f6",
   "metadata": {},
   "outputs": [
    {
     "name": "stdout",
     "output_type": "stream",
     "text": [
      "3-Phase-current-0.7mm-bearing-fault\n",
      "0.7inner-100watt.csv\n",
      "0.7inner-200watt.csv\n",
      "0.7inner-300watt.csv\n",
      "0.7outer-100watt.csv\n",
      "0.7outer-200watt.csv\n",
      "0.7outer-300watt.csv\n",
      "3-Phase-current-0.9mm-bearing-fault\n",
      "0.9inner-100watt.csv\n",
      "0.9inner-200watt.csv\n",
      "0.9inner-300watt.csv\n",
      "0.9outer-100watt.csv\n",
      "0.9outer-200watt.csv\n",
      "0.9outer-300watt.csv\n",
      "3-Phase-current-1.1mm-bearing-fault\n",
      "1.1inner-100watt.csv\n",
      "1.1inner-200watt.csv\n",
      "1.1inner-300watt.csv\n",
      "1.1outer-100watt.csv\n",
      "1.1outer-200watt.csv\n",
      "1.1outer-300watt.csv\n",
      "3-Phase-current-1.3mm-bearing-fault\n",
      "1.3inner-100watt.csv\n",
      "1.3inner-200watt.csv\n",
      "1.3inner-300watt.csv\n",
      "1.3outer-100watt.csv\n",
      "1.3outer-200watt.csv\n",
      "1.3outer-300watt.csv\n",
      "3-Phase-current-1.5mm-bearing-fault\n",
      "1.5inner-100watt.csv\n",
      "1.5inner-200watt.csv\n",
      "1.5inner-300watt.csv\n",
      "1.5outer-100watt.csv\n",
      "1.5outer-200watt.csv\n",
      "1.5outer-300watt.csv\n",
      "3-Phase-current-1.7mm-bearing-fault\n",
      "1.7inner-100watt.csv\n",
      "1.7inner-200watt.csv\n",
      "1.7inner-300watt.csv\n",
      "1.7outer-100watt.csv\n",
      "1.7outer-200watt.csv\n",
      "1.7outer-300watt.csv\n",
      "3-Phase-current-12-4mm-broken-rotor-bar-fault\n",
      "BRB-12-4-100watt.csv\n",
      "BRB-12-4-300watt.csv\n",
      "3-Phase-current-healthy-motor\n",
      "healthy.csv\n"
     ]
    }
   ],
   "source": [
    "parent_folder = 'C:/Users/Talha Sattar/Downloads/Current Signature Dataset of Three-Phase Induction Motor under Varying Load Conditions'\n",
    "\n",
    "folders = [\n",
    "    '3-Phase-current-0.7mm-bearing-fault',\n",
    "    '3-Phase-current-0.9mm-bearing-fault',\n",
    "    '3-Phase-current-1.1mm-bearing-fault',\n",
    "    '3-Phase-current-1.3mm-bearing-fault',\n",
    "    '3-Phase-current-1.5mm-bearing-fault',\n",
    "    '3-Phase-current-1.7mm-bearing-fault',\n",
    "    '3-Phase-current-12-4mm-broken-rotor-bar-fault',\n",
    "    '3-Phase-current-healthy-motor'\n",
    "]\n",
    "\n",
    "structured_data = pd.DataFrame()\n",
    "\n",
    "for label, folder in enumerate(folders):\n",
    "    folder_path = os.path.join(parent_folder, folder)\n",
    "    print(folder)\n",
    "    for file in os.listdir(folder_path):\n",
    "        print(file)\n",
    "        file_path = os.path.join(folder_path, file)\n",
    "        df = pd.read_csv(file_path, nrows=100000)  # Read only the first 100,000 rows\n",
    "        df.dropna(inplace=True)  # Drop rows with null values\n",
    "        label_name = ' '.join(file.split()[:8])  # Label based on the first 8 words of the file name\n",
    "        \n",
    "        # Reshape the data into 1000 columns of samples\n",
    "        total_samples = len(df[' Current-A'])\n",
    "        reshaped_data = df[' Current-A'][:total_samples - (total_samples % 1000)].values.reshape(-1, 1000)\n",
    "        data = pd.DataFrame(reshaped_data)\n",
    "        \n",
    "        # Add a new column 'Label' with the label for each row\n",
    "        data['Label'] = label_name\n",
    "        structured_data = pd.concat([structured_data, data], ignore_index=True)\n",
    "\n",
    "structured_data.to_csv('Pre_processed_Dataset2.csv', mode='w', index=False)\n"
   ]
  },
  {
   "cell_type": "code",
   "execution_count": 12,
   "id": "edb72588",
   "metadata": {},
   "outputs": [],
   "source": [
    "processed_Data = pd.read_csv('Pre_processed_Dataset2.csv')"
   ]
  },
  {
   "cell_type": "code",
   "execution_count": 54,
   "id": "94c7be9a",
   "metadata": {},
   "outputs": [
    {
     "data": {
      "text/html": [
       "<div>\n",
       "<style scoped>\n",
       "    .dataframe tbody tr th:only-of-type {\n",
       "        vertical-align: middle;\n",
       "    }\n",
       "\n",
       "    .dataframe tbody tr th {\n",
       "        vertical-align: top;\n",
       "    }\n",
       "\n",
       "    .dataframe thead th {\n",
       "        text-align: right;\n",
       "    }\n",
       "</style>\n",
       "<table border=\"1\" class=\"dataframe\">\n",
       "  <thead>\n",
       "    <tr style=\"text-align: right;\">\n",
       "      <th></th>\n",
       "      <th>0</th>\n",
       "      <th>1</th>\n",
       "      <th>2</th>\n",
       "      <th>3</th>\n",
       "      <th>4</th>\n",
       "      <th>5</th>\n",
       "      <th>6</th>\n",
       "      <th>7</th>\n",
       "      <th>8</th>\n",
       "      <th>9</th>\n",
       "      <th>...</th>\n",
       "      <th>991</th>\n",
       "      <th>992</th>\n",
       "      <th>993</th>\n",
       "      <th>994</th>\n",
       "      <th>995</th>\n",
       "      <th>996</th>\n",
       "      <th>997</th>\n",
       "      <th>998</th>\n",
       "      <th>999</th>\n",
       "      <th>Label</th>\n",
       "    </tr>\n",
       "  </thead>\n",
       "  <tbody>\n",
       "    <tr>\n",
       "      <th>0</th>\n",
       "      <td>2.3309</td>\n",
       "      <td>2.3309</td>\n",
       "      <td>2.3309</td>\n",
       "      <td>2.3309</td>\n",
       "      <td>2.3309</td>\n",
       "      <td>2.3309</td>\n",
       "      <td>2.3309</td>\n",
       "      <td>2.3309</td>\n",
       "      <td>2.3309</td>\n",
       "      <td>2.3309</td>\n",
       "      <td>...</td>\n",
       "      <td>2.7228</td>\n",
       "      <td>2.7228</td>\n",
       "      <td>2.7228</td>\n",
       "      <td>2.7228</td>\n",
       "      <td>2.7228</td>\n",
       "      <td>2.7228</td>\n",
       "      <td>2.7228</td>\n",
       "      <td>2.7228</td>\n",
       "      <td>2.7228</td>\n",
       "      <td>0.7inner-100watt.csv</td>\n",
       "    </tr>\n",
       "    <tr>\n",
       "      <th>1</th>\n",
       "      <td>2.7228</td>\n",
       "      <td>2.7228</td>\n",
       "      <td>2.7228</td>\n",
       "      <td>2.7228</td>\n",
       "      <td>2.7228</td>\n",
       "      <td>2.7228</td>\n",
       "      <td>2.7228</td>\n",
       "      <td>2.7228</td>\n",
       "      <td>2.7228</td>\n",
       "      <td>2.7228</td>\n",
       "      <td>...</td>\n",
       "      <td>2.9524</td>\n",
       "      <td>2.9524</td>\n",
       "      <td>2.9524</td>\n",
       "      <td>2.9524</td>\n",
       "      <td>2.9524</td>\n",
       "      <td>2.9524</td>\n",
       "      <td>2.9524</td>\n",
       "      <td>2.9524</td>\n",
       "      <td>2.9524</td>\n",
       "      <td>0.7inner-100watt.csv</td>\n",
       "    </tr>\n",
       "    <tr>\n",
       "      <th>2</th>\n",
       "      <td>2.9524</td>\n",
       "      <td>2.9524</td>\n",
       "      <td>2.9524</td>\n",
       "      <td>2.9524</td>\n",
       "      <td>2.9524</td>\n",
       "      <td>2.9524</td>\n",
       "      <td>2.9524</td>\n",
       "      <td>2.9524</td>\n",
       "      <td>2.9524</td>\n",
       "      <td>2.9524</td>\n",
       "      <td>...</td>\n",
       "      <td>2.1111</td>\n",
       "      <td>2.1111</td>\n",
       "      <td>2.1111</td>\n",
       "      <td>2.1111</td>\n",
       "      <td>2.1111</td>\n",
       "      <td>2.1111</td>\n",
       "      <td>2.1111</td>\n",
       "      <td>2.1111</td>\n",
       "      <td>2.1111</td>\n",
       "      <td>0.7inner-100watt.csv</td>\n",
       "    </tr>\n",
       "    <tr>\n",
       "      <th>3</th>\n",
       "      <td>2.1111</td>\n",
       "      <td>2.1111</td>\n",
       "      <td>2.1111</td>\n",
       "      <td>2.1111</td>\n",
       "      <td>2.1111</td>\n",
       "      <td>2.1111</td>\n",
       "      <td>2.1111</td>\n",
       "      <td>2.1111</td>\n",
       "      <td>2.1111</td>\n",
       "      <td>2.1111</td>\n",
       "      <td>...</td>\n",
       "      <td>2.1282</td>\n",
       "      <td>2.1282</td>\n",
       "      <td>2.1282</td>\n",
       "      <td>2.1282</td>\n",
       "      <td>2.1282</td>\n",
       "      <td>2.1282</td>\n",
       "      <td>2.1282</td>\n",
       "      <td>2.1282</td>\n",
       "      <td>2.1282</td>\n",
       "      <td>0.7inner-100watt.csv</td>\n",
       "    </tr>\n",
       "    <tr>\n",
       "      <th>4</th>\n",
       "      <td>2.1282</td>\n",
       "      <td>2.1282</td>\n",
       "      <td>2.1282</td>\n",
       "      <td>2.1282</td>\n",
       "      <td>2.1282</td>\n",
       "      <td>2.1282</td>\n",
       "      <td>2.1282</td>\n",
       "      <td>2.1282</td>\n",
       "      <td>2.1282</td>\n",
       "      <td>2.1282</td>\n",
       "      <td>...</td>\n",
       "      <td>2.9805</td>\n",
       "      <td>2.9805</td>\n",
       "      <td>2.9805</td>\n",
       "      <td>2.9805</td>\n",
       "      <td>3.0024</td>\n",
       "      <td>3.0024</td>\n",
       "      <td>3.0024</td>\n",
       "      <td>3.0024</td>\n",
       "      <td>3.0024</td>\n",
       "      <td>0.7inner-100watt.csv</td>\n",
       "    </tr>\n",
       "    <tr>\n",
       "      <th>...</th>\n",
       "      <td>...</td>\n",
       "      <td>...</td>\n",
       "      <td>...</td>\n",
       "      <td>...</td>\n",
       "      <td>...</td>\n",
       "      <td>...</td>\n",
       "      <td>...</td>\n",
       "      <td>...</td>\n",
       "      <td>...</td>\n",
       "      <td>...</td>\n",
       "      <td>...</td>\n",
       "      <td>...</td>\n",
       "      <td>...</td>\n",
       "      <td>...</td>\n",
       "      <td>...</td>\n",
       "      <td>...</td>\n",
       "      <td>...</td>\n",
       "      <td>...</td>\n",
       "      <td>...</td>\n",
       "      <td>...</td>\n",
       "      <td>...</td>\n",
       "    </tr>\n",
       "    <tr>\n",
       "      <th>3861</th>\n",
       "      <td>2.4603</td>\n",
       "      <td>2.4530</td>\n",
       "      <td>2.4530</td>\n",
       "      <td>2.4530</td>\n",
       "      <td>2.4530</td>\n",
       "      <td>2.4530</td>\n",
       "      <td>2.4530</td>\n",
       "      <td>2.4530</td>\n",
       "      <td>2.4530</td>\n",
       "      <td>2.4530</td>\n",
       "      <td>...</td>\n",
       "      <td>2.3712</td>\n",
       "      <td>2.3712</td>\n",
       "      <td>2.3712</td>\n",
       "      <td>2.3712</td>\n",
       "      <td>2.3712</td>\n",
       "      <td>2.3712</td>\n",
       "      <td>2.3712</td>\n",
       "      <td>2.3712</td>\n",
       "      <td>2.3712</td>\n",
       "      <td>healthy.csv</td>\n",
       "    </tr>\n",
       "    <tr>\n",
       "      <th>3862</th>\n",
       "      <td>2.3712</td>\n",
       "      <td>2.3712</td>\n",
       "      <td>2.3712</td>\n",
       "      <td>2.3712</td>\n",
       "      <td>2.3712</td>\n",
       "      <td>2.3712</td>\n",
       "      <td>2.3712</td>\n",
       "      <td>2.3712</td>\n",
       "      <td>2.3712</td>\n",
       "      <td>2.3712</td>\n",
       "      <td>...</td>\n",
       "      <td>2.3065</td>\n",
       "      <td>2.3065</td>\n",
       "      <td>2.3065</td>\n",
       "      <td>2.3065</td>\n",
       "      <td>2.3065</td>\n",
       "      <td>2.3065</td>\n",
       "      <td>2.3065</td>\n",
       "      <td>2.3065</td>\n",
       "      <td>2.3065</td>\n",
       "      <td>healthy.csv</td>\n",
       "    </tr>\n",
       "    <tr>\n",
       "      <th>3863</th>\n",
       "      <td>2.3065</td>\n",
       "      <td>2.3065</td>\n",
       "      <td>2.3065</td>\n",
       "      <td>2.3065</td>\n",
       "      <td>2.3065</td>\n",
       "      <td>2.3065</td>\n",
       "      <td>2.3065</td>\n",
       "      <td>2.3065</td>\n",
       "      <td>2.3065</td>\n",
       "      <td>2.3065</td>\n",
       "      <td>...</td>\n",
       "      <td>2.2552</td>\n",
       "      <td>2.2552</td>\n",
       "      <td>2.2552</td>\n",
       "      <td>2.2552</td>\n",
       "      <td>2.2552</td>\n",
       "      <td>2.2552</td>\n",
       "      <td>2.2552</td>\n",
       "      <td>2.2552</td>\n",
       "      <td>2.2552</td>\n",
       "      <td>healthy.csv</td>\n",
       "    </tr>\n",
       "    <tr>\n",
       "      <th>3864</th>\n",
       "      <td>2.2552</td>\n",
       "      <td>2.2552</td>\n",
       "      <td>2.2552</td>\n",
       "      <td>2.2552</td>\n",
       "      <td>2.2552</td>\n",
       "      <td>2.2552</td>\n",
       "      <td>2.2552</td>\n",
       "      <td>2.2552</td>\n",
       "      <td>2.2552</td>\n",
       "      <td>2.2552</td>\n",
       "      <td>...</td>\n",
       "      <td>2.2466</td>\n",
       "      <td>2.2466</td>\n",
       "      <td>2.2466</td>\n",
       "      <td>2.2466</td>\n",
       "      <td>2.2466</td>\n",
       "      <td>2.2466</td>\n",
       "      <td>2.2466</td>\n",
       "      <td>2.2466</td>\n",
       "      <td>2.2466</td>\n",
       "      <td>healthy.csv</td>\n",
       "    </tr>\n",
       "    <tr>\n",
       "      <th>3865</th>\n",
       "      <td>2.2479</td>\n",
       "      <td>2.2479</td>\n",
       "      <td>2.2479</td>\n",
       "      <td>2.2479</td>\n",
       "      <td>2.2479</td>\n",
       "      <td>2.2479</td>\n",
       "      <td>2.2479</td>\n",
       "      <td>2.2479</td>\n",
       "      <td>2.2479</td>\n",
       "      <td>2.2479</td>\n",
       "      <td>...</td>\n",
       "      <td>2.2894</td>\n",
       "      <td>2.2894</td>\n",
       "      <td>2.2894</td>\n",
       "      <td>2.2894</td>\n",
       "      <td>2.2894</td>\n",
       "      <td>2.2894</td>\n",
       "      <td>2.2894</td>\n",
       "      <td>2.2894</td>\n",
       "      <td>2.2894</td>\n",
       "      <td>healthy.csv</td>\n",
       "    </tr>\n",
       "  </tbody>\n",
       "</table>\n",
       "<p>3866 rows × 1001 columns</p>\n",
       "</div>"
      ],
      "text/plain": [
       "           0       1       2       3       4       5       6       7       8  \\\n",
       "0     2.3309  2.3309  2.3309  2.3309  2.3309  2.3309  2.3309  2.3309  2.3309   \n",
       "1     2.7228  2.7228  2.7228  2.7228  2.7228  2.7228  2.7228  2.7228  2.7228   \n",
       "2     2.9524  2.9524  2.9524  2.9524  2.9524  2.9524  2.9524  2.9524  2.9524   \n",
       "3     2.1111  2.1111  2.1111  2.1111  2.1111  2.1111  2.1111  2.1111  2.1111   \n",
       "4     2.1282  2.1282  2.1282  2.1282  2.1282  2.1282  2.1282  2.1282  2.1282   \n",
       "...      ...     ...     ...     ...     ...     ...     ...     ...     ...   \n",
       "3861  2.4603  2.4530  2.4530  2.4530  2.4530  2.4530  2.4530  2.4530  2.4530   \n",
       "3862  2.3712  2.3712  2.3712  2.3712  2.3712  2.3712  2.3712  2.3712  2.3712   \n",
       "3863  2.3065  2.3065  2.3065  2.3065  2.3065  2.3065  2.3065  2.3065  2.3065   \n",
       "3864  2.2552  2.2552  2.2552  2.2552  2.2552  2.2552  2.2552  2.2552  2.2552   \n",
       "3865  2.2479  2.2479  2.2479  2.2479  2.2479  2.2479  2.2479  2.2479  2.2479   \n",
       "\n",
       "           9  ...     991     992     993     994     995     996     997  \\\n",
       "0     2.3309  ...  2.7228  2.7228  2.7228  2.7228  2.7228  2.7228  2.7228   \n",
       "1     2.7228  ...  2.9524  2.9524  2.9524  2.9524  2.9524  2.9524  2.9524   \n",
       "2     2.9524  ...  2.1111  2.1111  2.1111  2.1111  2.1111  2.1111  2.1111   \n",
       "3     2.1111  ...  2.1282  2.1282  2.1282  2.1282  2.1282  2.1282  2.1282   \n",
       "4     2.1282  ...  2.9805  2.9805  2.9805  2.9805  3.0024  3.0024  3.0024   \n",
       "...      ...  ...     ...     ...     ...     ...     ...     ...     ...   \n",
       "3861  2.4530  ...  2.3712  2.3712  2.3712  2.3712  2.3712  2.3712  2.3712   \n",
       "3862  2.3712  ...  2.3065  2.3065  2.3065  2.3065  2.3065  2.3065  2.3065   \n",
       "3863  2.3065  ...  2.2552  2.2552  2.2552  2.2552  2.2552  2.2552  2.2552   \n",
       "3864  2.2552  ...  2.2466  2.2466  2.2466  2.2466  2.2466  2.2466  2.2466   \n",
       "3865  2.2479  ...  2.2894  2.2894  2.2894  2.2894  2.2894  2.2894  2.2894   \n",
       "\n",
       "         998     999                 Label  \n",
       "0     2.7228  2.7228  0.7inner-100watt.csv  \n",
       "1     2.9524  2.9524  0.7inner-100watt.csv  \n",
       "2     2.1111  2.1111  0.7inner-100watt.csv  \n",
       "3     2.1282  2.1282  0.7inner-100watt.csv  \n",
       "4     3.0024  3.0024  0.7inner-100watt.csv  \n",
       "...      ...     ...                   ...  \n",
       "3861  2.3712  2.3712           healthy.csv  \n",
       "3862  2.3065  2.3065           healthy.csv  \n",
       "3863  2.2552  2.2552           healthy.csv  \n",
       "3864  2.2466  2.2466           healthy.csv  \n",
       "3865  2.2894  2.2894           healthy.csv  \n",
       "\n",
       "[3866 rows x 1001 columns]"
      ]
     },
     "execution_count": 54,
     "metadata": {},
     "output_type": "execute_result"
    }
   ],
   "source": [
    "processed_Data"
   ]
  },
  {
   "cell_type": "code",
   "execution_count": 17,
   "id": "afb1859d",
   "metadata": {},
   "outputs": [
    {
     "data": {
      "text/plain": [
       "Label\n",
       "0.7inner-100watt.csv    100\n",
       "1.5outer-300watt.csv    100\n",
       "1.3outer-200watt.csv    100\n",
       "1.3outer-300watt.csv    100\n",
       "1.5inner-100watt.csv    100\n",
       "1.5inner-200watt.csv    100\n",
       "1.5inner-300watt.csv    100\n",
       "1.5outer-100watt.csv    100\n",
       "1.5outer-200watt.csv    100\n",
       "1.7inner-100watt.csv    100\n",
       "1.3inner-300watt.csv    100\n",
       "1.7inner-200watt.csv    100\n",
       "1.7inner-300watt.csv    100\n",
       "1.7outer-100watt.csv    100\n",
       "1.7outer-200watt.csv    100\n",
       "1.7outer-300watt.csv    100\n",
       "BRB-12-4-100watt.csv    100\n",
       "BRB-12-4-300watt.csv    100\n",
       "1.3outer-100watt.csv    100\n",
       "1.3inner-200watt.csv    100\n",
       "0.7inner-200watt.csv    100\n",
       "1.3inner-100watt.csv    100\n",
       "0.7inner-300watt.csv    100\n",
       "0.7outer-100watt.csv    100\n",
       "0.7outer-200watt.csv    100\n",
       "0.9inner-100watt.csv    100\n",
       "0.9inner-200watt.csv    100\n",
       "0.9inner-300watt.csv    100\n",
       "0.9outer-100watt.csv    100\n",
       "0.9outer-200watt.csv    100\n",
       "0.9outer-300watt.csv    100\n",
       "1.1inner-100watt.csv    100\n",
       "1.1inner-200watt.csv    100\n",
       "1.1inner-300watt.csv    100\n",
       "1.1outer-100watt.csv    100\n",
       "1.1outer-200watt.csv    100\n",
       "1.1outer-300watt.csv    100\n",
       "healthy.csv             100\n",
       "0.7outer-300watt.csv     66\n",
       "Name: count, dtype: int64"
      ]
     },
     "execution_count": 17,
     "metadata": {},
     "output_type": "execute_result"
    }
   ],
   "source": [
    "label_check = processed_Data['Label'].value_counts()\n",
    "label_check"
   ]
  },
  {
   "cell_type": "code",
   "execution_count": 14,
   "id": "8617ae07",
   "metadata": {},
   "outputs": [],
   "source": [
    "null_check = processed_Data.isnull().value_counts().sum()"
   ]
  },
  {
   "cell_type": "code",
   "execution_count": 15,
   "id": "57176154",
   "metadata": {},
   "outputs": [
    {
     "name": "stdout",
     "output_type": "stream",
     "text": [
      "3866\n"
     ]
    }
   ],
   "source": [
    "print(null_check)"
   ]
  },
  {
   "cell_type": "code",
   "execution_count": 30,
   "id": "83fe36ef",
   "metadata": {},
   "outputs": [],
   "source": [
    "null_check = processed_Data.isnull().value_counts().sum()"
   ]
  },
  {
   "cell_type": "code",
   "execution_count": 31,
   "id": "9b9ed058",
   "metadata": {},
   "outputs": [
    {
     "name": "stdout",
     "output_type": "stream",
     "text": [
      "3866\n"
     ]
    }
   ],
   "source": [
    "print(null_check)"
   ]
  },
  {
   "cell_type": "code",
   "execution_count": 45,
   "id": "dcd45e02",
   "metadata": {},
   "outputs": [
    {
     "name": "stdout",
     "output_type": "stream",
     "text": [
      "Number of rows: 3866\n"
     ]
    }
   ],
   "source": [
    "num_rows = len(processed_Data)\n",
    "print(\"Number of rows:\", num_rows)"
   ]
  },
  {
   "cell_type": "code",
   "execution_count": 32,
   "id": "07bab787",
   "metadata": {},
   "outputs": [
    {
     "name": "stdout",
     "output_type": "stream",
     "text": [
      "0\n"
     ]
    }
   ],
   "source": [
    "total_null_values = processed_Data.isnull().sum().sum()\n",
    "print(total_null_values)"
   ]
  },
  {
   "cell_type": "code",
   "execution_count": 115,
   "id": "8af60355",
   "metadata": {},
   "outputs": [],
   "source": [
    "processed_Data = pd.read_csv('Pre_processed_Dataset2.csv')"
   ]
  },
  {
   "cell_type": "code",
   "execution_count": 120,
   "id": "4205de78",
   "metadata": {},
   "outputs": [
    {
     "name": "stdout",
     "output_type": "stream",
     "text": [
      "Labels\n",
      "unhealthy_0.7inner    300\n",
      "unhealthy_0.9inner    300\n",
      "unhealthy_0.9outer    300\n",
      "unhealthy_1.1inner    300\n",
      "unhealthy_1.1outer    300\n",
      "unhealthy_1.3inner    300\n",
      "unhealthy_1.3outer    300\n",
      "unhealthy_1.5inner    300\n",
      "unhealthy_1.5outer    300\n",
      "unhealthy_1.7inner    300\n",
      "unhealthy_1.7outer    300\n",
      "unhealthy_0.7outer    266\n",
      "unhealthy_BRB-12-4    200\n",
      "healthy               100\n",
      "Name: count, dtype: int64\n"
     ]
    }
   ],
   "source": [
    "import pandas as pd\n",
    "\n",
    "# Assuming processed_Data is your DataFrame\n",
    "labels = processed_Data['Label'].unique()\n",
    "\n",
    "# Create a mapping dictionary for 'Labels'\n",
    "label_mapping = {\n",
    "    'healthy.csv': 'healthy',\n",
    "    'BRB-12-4-100watt': 'unhealthy_BRB-12-4',\n",
    "    'BRB-12-4-300watt': 'unhealthy_BRB-12-4',\n",
    "    '1.3inner': 'unhealthy_1.3inner',\n",
    "    '1.3outer': 'unhealthy_1.3outer',\n",
    "    '1.5inner': 'unhealthy_1.5inner',\n",
    "    '1.5outer': 'unhealthy_1.5outer',\n",
    "    '1.7inner': 'unhealthy_1.7inner',\n",
    "    '1.7outer': 'unhealthy_1.7outer',\n",
    "    '0.7inner': 'unhealthy_0.7inner',\n",
    "    '0.7outer': 'unhealthy_0.7outer',\n",
    "    '0.9inner': 'unhealthy_0.9inner',\n",
    "    '0.9outer': 'unhealthy_0.9outer',\n",
    "    '1.1inner': 'unhealthy_1.1inner',\n",
    "    '1.1outer': 'unhealthy_1.1outer',\n",
    "}\n",
    "\n",
    "# Map the labels to 'Labels' column\n",
    "processed_Data['Labels'] = processed_Data['Label'].apply(lambda x: label_mapping.get(x.split('-')[0], 'unhealthy_BRB-12-4'))\n",
    "\n",
    "# Check the new distribution of 'Labels'\n",
    "label_check = processed_Data['Labels'].value_counts()\n",
    "print(label_check)\n"
   ]
  },
  {
   "cell_type": "code",
   "execution_count": 126,
   "id": "34f0c564",
   "metadata": {},
   "outputs": [],
   "source": [
    "# Rename 'Label' column to 'File'\n",
    "processed_Data = processed_Data.rename(columns={'Label': 'File'})\n",
    "\n",
    "# Save the updated DataFrame to a new CSV file\n",
    "processed_Data.to_csv('Labeled_Dataset.csv', index=False)\n"
   ]
  },
  {
   "cell_type": "code",
   "execution_count": 133,
   "id": "fa1f2fcb",
   "metadata": {},
   "outputs": [
    {
     "name": "stdout",
     "output_type": "stream",
     "text": [
      "Labels\n",
      "unhealthy_0.7inner    300\n",
      "unhealthy_0.9inner    300\n",
      "unhealthy_0.9outer    300\n",
      "unhealthy_1.1inner    300\n",
      "unhealthy_1.1outer    300\n",
      "unhealthy_1.3inner    300\n",
      "unhealthy_1.3outer    300\n",
      "unhealthy_1.5inner    300\n",
      "unhealthy_1.5outer    300\n",
      "unhealthy_1.7inner    300\n",
      "unhealthy_1.7outer    300\n",
      "unhealthy_0.7outer    266\n",
      "unhealthy_BRB-12-4    200\n",
      "healthy               100\n",
      "Name: count, dtype: int64\n"
     ]
    }
   ],
   "source": [
    "# Check the new distribution of 'Labels'\n",
    "# each row contains '1000' values\n",
    "label_check = Label_data['Labels'].value_counts()\n",
    "print(label_check)"
   ]
  },
  {
   "cell_type": "code",
   "execution_count": 134,
   "id": "c4a62600",
   "metadata": {},
   "outputs": [
    {
     "name": "stdout",
     "output_type": "stream",
     "text": [
      "Number of null values for 'unhealthy_0.7outer': 0\n"
     ]
    }
   ],
   "source": [
    "# Check for null values in 'Labels' column for 'unhealthy_0.7outer'\n",
    "null_check = Label_data[Label_data['Labels'] == 'unhealthy_0.7outer']['Labels'].isnull().sum()\n",
    "print(\"Number of null values for 'unhealthy_0.7outer':\", null_check)\n"
   ]
  },
  {
   "cell_type": "code",
   "execution_count": 151,
   "id": "f493783d",
   "metadata": {},
   "outputs": [],
   "source": [
    "Label_data.drop(columns=['File'], inplace=True)"
   ]
  },
  {
   "cell_type": "code",
   "execution_count": 127,
   "id": "dcaaa8f8",
   "metadata": {},
   "outputs": [],
   "source": [
    "Label_data = pd.read_csv('Labeled_Dataset.csv')"
   ]
  },
  {
   "cell_type": "markdown",
   "id": "ab7f1b6d",
   "metadata": {},
   "source": [
    "* Calculate the Euclidean distance"
   ]
  },
  {
   "cell_type": "code",
   "execution_count": 94,
   "id": "c27f4f3d",
   "metadata": {},
   "outputs": [
    {
     "name": "stdout",
     "output_type": "stream",
     "text": [
      "Shape of Euclidean distance matrix (batched) is: (3866, 3866)\n"
     ]
    }
   ],
   "source": [
    "def euclidean_distance_matrix_batch(data, batch_size):\n",
    "    num_instances = len(data)\n",
    "    distance_matrices = []\n",
    "\n",
    "    for i in range(0, num_instances, batch_size):\n",
    "        end_idx = min(i + batch_size, num_instances)\n",
    "        batch_data = data[i:end_idx, :]\n",
    "        \n",
    "        # Calculate distance matrix for the current batch\n",
    "        batch_distance_matrix = np.zeros((end_idx - i, num_instances))\n",
    "        for j in range(num_instances):\n",
    "            differences = batch_data - data[j, :]\n",
    "            squared_distances = np.sum(differences ** 2, axis=1)\n",
    "            batch_distance_matrix[:, j] = np.sqrt(squared_distances)\n",
    "\n",
    "        distance_matrices.append(batch_distance_matrix)\n",
    "\n",
    "    return np.vstack(distance_matrices)\n",
    "\n",
    "# Calculate the Euclidean distance matrix for your dataset in batches\n",
    "distance_matrix_batched = euclidean_distance_matrix_batch(data, batch_size)\n",
    "\n",
    "print(\"Shape of Euclidean distance matrix (batched) is:\", distance_matrix_batched.shape)\n"
   ]
  },
  {
   "cell_type": "code",
   "execution_count": 100,
   "id": "be71b7f2",
   "metadata": {},
   "outputs": [
    {
     "name": "stdout",
     "output_type": "stream",
     "text": [
      "[[ 0.         21.74190712 16.73491859 ...  7.57398939  7.44012976\n",
      "   6.9330039 ]\n",
      " [21.74190712  0.         16.99133301 ... 22.01018143 22.96426201\n",
      "  22.4377861 ]\n",
      " [16.73491859 16.99133301  0.         ... 11.71536636 12.7376833\n",
      "  12.68146706]\n",
      " ...\n",
      " [ 7.57398939 22.01018143 11.71536636 ...  0.          1.08831346\n",
      "   1.01131165]\n",
      " [ 7.44012976 22.96426201 12.7376833  ...  1.08831346  0.\n",
      "   0.6788944 ]\n",
      " [ 6.9330039  22.4377861  12.68146706 ...  1.01131165  0.6788944\n",
      "   0.        ]]\n"
     ]
    }
   ],
   "source": [
    "print(distance_matrix_batched)"
   ]
  },
  {
   "cell_type": "code",
   "execution_count": 98,
   "id": "221be1bb",
   "metadata": {},
   "outputs": [
    {
     "data": {
      "image/png": "[encoded data removed]",
      "text/plain": [
       "<Figure size 640x480 with 2 Axes>"
      ]
     },
     "metadata": {},
     "output_type": "display_data"
    }
   ],
   "source": [
    "# Take a 5x5 sample for visualization\n",
    "subset_size = 5\n",
    "distance_matrix_subset = distance_matrix_batched[:subset_size, :subset_size]\n",
    "\n",
    "# Create a heatmap\n",
    "sns.heatmap(distance_matrix_subset, cmap='viridis', annot=True, fmt=\".3f\")\n",
    "plt.title('Euclidean Distance Matrix (Subset)')\n",
    "plt.xlabel('Data Point Index')\n",
    "plt.ylabel('Data Point Index')\n",
    "plt.show()"
   ]
  },
  {
   "cell_type": "markdown",
   "id": "663be97b",
   "metadata": {},
   "source": [
    "* K-NN Model Implementation without build-in libraries."
   ]
  },
  {
   "cell_type": "code",
   "execution_count": 260,
   "id": "3689849f",
   "metadata": {},
   "outputs": [
    {
     "name": "stdout",
     "output_type": "stream",
     "text": [
      "<class 'pandas.core.frame.DataFrame'>\n",
      "RangeIndex: 3866 entries, 0 to 3865\n",
      "Columns: 1002 entries, 0 to Encoded_Labels\n",
      "dtypes: float64(1000), int32(1), object(1)\n",
      "memory usage: 29.5+ MB\n"
     ]
    }
   ],
   "source": [
    "Label_data.info()"
   ]
  },
  {
   "cell_type": "markdown",
   "id": "ae06e01a",
   "metadata": {},
   "source": [
    "### Encoding"
   ]
  },
  {
   "cell_type": "code",
   "execution_count": 157,
   "id": "a57302b2",
   "metadata": {},
   "outputs": [],
   "source": [
    "# Assuming Label_data is your DataFrame\n",
    "label_encoder = LabelEncoder()\n",
    "Label_data['Encoded_Labels'] = label_encoder.fit_transform(Label_data['Labels'])"
   ]
  },
  {
   "cell_type": "code",
   "execution_count": 217,
   "id": "65739d40",
   "metadata": {},
   "outputs": [
    {
     "data": {
      "text/plain": [
       "Encoded_Labels\n",
       "1     300\n",
       "3     300\n",
       "4     300\n",
       "5     300\n",
       "6     300\n",
       "7     300\n",
       "8     300\n",
       "9     300\n",
       "10    300\n",
       "11    300\n",
       "12    300\n",
       "2     266\n",
       "13    200\n",
       "0     100\n",
       "Name: count, dtype: int64"
      ]
     },
     "execution_count": 217,
     "metadata": {},
     "output_type": "execute_result"
    }
   ],
   "source": [
    "Label_data['Encoded_Labels'].value_counts()"
   ]
  },
  {
   "cell_type": "markdown",
   "id": "f522a5ae",
   "metadata": {},
   "source": [
    "### Train Test - Split"
   ]
  },
  {
   "cell_type": "code",
   "execution_count": 261,
   "id": "96ffa2ee",
   "metadata": {},
   "outputs": [],
   "source": [
    "X = Label_data.iloc[:, :1000]  # Replace YourDataFrame with your actual DataFrame\n",
    "y = Label_data['Encoded_Labels']  # Use the encoded labels if you performed Label Encoding\n"
   ]
  },
  {
   "cell_type": "code",
   "execution_count": 262,
   "id": "b62f2dea",
   "metadata": {},
   "outputs": [],
   "source": [
    "y = y.astype(float)"
   ]
  },
  {
   "cell_type": "code",
   "execution_count": 263,
   "id": "4c536460",
   "metadata": {},
   "outputs": [],
   "source": [
    "#  'y' is your target variable\n",
    "X_train, X_test, y_train, y_test = train_test_split(X, y, test_size=0.2, random_state=42)\n"
   ]
  },
  {
   "cell_type": "code",
   "execution_count": 254,
   "id": "9c2054d5",
   "metadata": {},
   "outputs": [],
   "source": [
    "# If X_test is a different data type, convert it to a NumPy array\n",
    "X_test = np.array(X_test)"
   ]
  },
  {
   "cell_type": "code",
   "execution_count": 251,
   "id": "9c2c4503",
   "metadata": {},
   "outputs": [
    {
     "name": "stdout",
     "output_type": "stream",
     "text": [
      "Training set - Features shape: (3092, 1000)\n",
      "Training set - Labels shape: (3092,)\n",
      "Testing set - Features shape: (774, 1000)\n",
      "Testing set - Labels shape: (774,)\n"
     ]
    }
   ],
   "source": [
    "print(\"Training set - Features shape:\", X_train.shape)\n",
    "print(\"Training set - Labels shape:\", y_train.shape)\n",
    "print(\"Testing set - Features shape:\", X_test.shape)\n",
    "print(\"Testing set - Labels shape:\", y_test.shape)"
   ]
  },
  {
   "cell_type": "code",
   "execution_count": 264,
   "id": "5b12241d",
   "metadata": {},
   "outputs": [
    {
     "name": "stdout",
     "output_type": "stream",
     "text": [
      "NaN values in X: 0\n",
      "Infinite values in X: 0\n"
     ]
    }
   ],
   "source": [
    "print(\"NaN values in X:\", X.isna().sum().sum())\n",
    "print(\"Infinite values in X:\", np.isinf(X).sum().sum())\n"
   ]
  },
  {
   "cell_type": "markdown",
   "id": "0ee1dbe0",
   "metadata": {},
   "source": [
    "* k-nn (without build-in)"
   ]
  },
  {
   "cell_type": "code",
   "execution_count": 283,
   "id": "087d29ea",
   "metadata": {},
   "outputs": [],
   "source": [
    "class KNeighborsClassifier:\n",
    "    def __init__(self, k):\n",
    "        self.k = k\n",
    "\n",
    "    def fit(self, X_train, y_train):\n",
    "        self.X_train = np.array(X_train)\n",
    "        self.y_train = np.array(y_train)\n",
    "\n",
    "    def predict(self, X_test):\n",
    "        X_test = np.array(X_test)\n",
    "        predictions = []\n",
    "\n",
    "        for test_point in X_test:\n",
    "            # Calculate distances to all training points\n",
    "            distances = np.sqrt(np.sum((self.X_train - test_point) ** 2, axis=1))\n",
    "\n",
    "            # Get indices of k-nearest neighbors\n",
    "            k_nearest_indices = np.argsort(distances)[:self.k]\n",
    "\n",
    "            # Get labels of k-nearest neighbors\n",
    "            k_nearest_labels = self.y_train[k_nearest_indices]\n",
    "\n",
    "            # Convert k_nearest_labels to int before using np.bincount\n",
    "            k_nearest_labels = k_nearest_labels.astype(int)\n",
    "\n",
    "            # Predict the majority class\n",
    "            predicted_label = np.bincount(k_nearest_labels).argmax()\n",
    "\n",
    "            predictions.append(predicted_label)\n",
    "\n",
    "        return predictions\n"
   ]
  },
  {
   "cell_type": "code",
   "execution_count": 284,
   "id": "debad5f4",
   "metadata": {},
   "outputs": [
    {
     "name": "stdout",
     "output_type": "stream",
     "text": [
      "Accuracy: 0.20671834625322996\n"
     ]
    }
   ],
   "source": [
    "knn_model = KNeighborsClassifier(k=3)\n",
    "knn_model.fit(X_train, y_train)\n",
    "\n",
    "# Make predictions on the test set\n",
    "predictions = knn_model.predict(X_test)\n",
    "\n",
    "accuracy = np.mean(predictions == y_test)\n",
    "print(\"Accuracy:\", accuracy)"
   ]
  },
  {
   "cell_type": "markdown",
   "id": "4f0e3f6d",
   "metadata": {},
   "source": [
    "* Apply hold-out and 10 cross validation method for training the model."
   ]
  },
  {
   "cell_type": "code",
   "execution_count": 300,
   "id": "a4c99558",
   "metadata": {},
   "outputs": [],
   "source": [
    "def custom_holdout_split(features, label, test_size=0.25, random_state=None):\n",
    "    np.random.seed(random_state)\n",
    "\n",
    "    # Convert to NumPy arrays\n",
    "    features_array = features.values if isinstance(features, pd.DataFrame) else features\n",
    "    label_array = label.values if isinstance(label, pd.Series) else label\n",
    "\n",
    "    indices = np.arange(len(features_array))\n",
    "    np.random.shuffle(indices)\n",
    "\n",
    "    split_index = int(len(features_array) * (1 - test_size))\n",
    "\n",
    "    train_indices, test_indices = indices[:split_index], indices[split_index:]\n",
    "    X_train, X_test = features_array[train_indices], features_array[test_indices]\n",
    "    y_train, y_test = label_array[train_indices], label_array[test_indices]\n",
    "\n",
    "    return X_train, X_test, y_train, y_test\n",
    "\n",
    "# Assuming X and y are your Pandas DataFrame and Series\n",
    "X_train, X_test, y_train, y_test = custom_holdout_split(X, y, test_size=0.2, random_state=30)\n"
   ]
  },
  {
   "cell_type": "code",
   "execution_count": 301,
   "id": "50ada2ba",
   "metadata": {},
   "outputs": [
    {
     "name": "stdout",
     "output_type": "stream",
     "text": [
      "Model Evaluation:\n",
      "Accuracy: 0.22093023255813954\n",
      "Classification Report:\n",
      "               precision    recall  f1-score   support\n",
      "\n",
      "         0.0       0.29      0.38      0.32        16\n",
      "         1.0       0.26      0.42      0.32        69\n",
      "         2.0       0.27      0.34      0.30        59\n",
      "         3.0       0.18      0.19      0.19        75\n",
      "         4.0       0.31      0.28      0.29        58\n",
      "         5.0       0.15      0.20      0.17        51\n",
      "         6.0       0.24      0.27      0.26        51\n",
      "         7.0       0.17      0.21      0.18        63\n",
      "         8.0       0.12      0.09      0.10        57\n",
      "         9.0       0.33      0.24      0.28        63\n",
      "        10.0       0.07      0.06      0.07        49\n",
      "        11.0       0.23      0.19      0.21        53\n",
      "        12.0       0.32      0.21      0.25        68\n",
      "        13.0       0.09      0.05      0.06        42\n",
      "\n",
      "    accuracy                           0.22       774\n",
      "   macro avg       0.22      0.22      0.21       774\n",
      "weighted avg       0.22      0.22      0.22       774\n",
      "\n"
     ]
    }
   ],
   "source": [
    "# Model training\n",
    "k = 5  # You can choose an appropriate value for k\n",
    "knn_model = KNeighborsClassifier(n_neighbors=k)\n",
    "\n",
    "knn_model.fit(X_train, y_train)\n",
    "\n",
    "# Make predictions on the test set\n",
    "predictions = knn_model.predict(X_test)\n",
    "\n",
    "# Evaluate the model performance\n",
    "accuracy = accuracy_score(y_test, predictions)\n",
    "report = classification_report(y_test, predictions)\n",
    "\n",
    "print(\"Model Evaluation:\")\n",
    "print(\"Accuracy:\", accuracy)\n",
    "print(\"Classification Report:\\n\", report)"
   ]
  },
  {
   "cell_type": "code",
   "execution_count": 309,
   "id": "fbecf6a4",
   "metadata": {},
   "outputs": [
    {
     "name": "stdout",
     "output_type": "stream",
     "text": [
      "Validation Accuracy: 0.22093023255813954\n",
      "Validation Precision: 0.2190861078759804\n",
      "Validation Recall: 0.22093023255813954\n",
      "Validation F1 Score: 0.21508002622238678\n",
      "Validation Sensitivity: 0.22093023255813954\n",
      "Validation Specificity: 1.0\n"
     ]
    }
   ],
   "source": [
    "from sklearn.metrics import accuracy_score, precision_score, recall_score, f1_score, confusion_matrix\n",
    "def calculate_classification_metrics(y_true, y_pred):\n",
    "    accuracy = np.mean(y_true == y_pred )\n",
    "    precision = precision_score(y_true, y_pred, average='weighted')\n",
    "    recall = recall_score(y_true, y_pred, average='weighted')\n",
    "    f1 = f1_score(y_true, y_pred, average='weighted')\n",
    "    cm = confusion_matrix(y_true, y_pred)\n",
    "    sensitivity = recall\n",
    "    specificity = cm[0, 0] / (cm[0, 0] + cm[0, 1])\n",
    "    \n",
    "    return accuracy, precision, recall, f1, sensitivity, specificity\n",
    "\n",
    "accuracy, precision, recall, f1, sensitivity, specificity = calculate_classification_metrics(y_test, predictions)\n",
    "\n",
    "print(\"Validation Accuracy:\", accuracy)\n",
    "print(\"Validation Precision:\", precision)\n",
    "print(\"Validation Recall:\", recall)\n",
    "print(\"Validation F1 Score:\", f1)\n",
    "print(\"Validation Sensitivity:\", sensitivity)\n",
    "print(\"Validation Specificity:\", specificity)"
   ]
  },
  {
   "cell_type": "code",
   "execution_count": 313,
   "id": "8ce68dd5",
   "metadata": {},
   "outputs": [],
   "source": [
    "def knn_train_and_evaluate(train_X, train_y, val_X, val_y):\n",
    "    knn_classifier = KNeighborsClassifier(n_neighbors=3)  # Use 'n_neighbors' instead of 'k'\n",
    "    knn_classifier.fit(train_X, train_y)\n",
    "\n",
    "    predictions = knn_classifier.predict(val_X)\n",
    "\n",
    "    accuracy = accuracy_score(val_y, predictions)\n",
    "    precision = precision_score(val_y, predictions, average='macro')  # Specify 'macro' for multiclass problems\n",
    "    recall = recall_score(val_y, predictions, average='macro')\n",
    "    f1 = f1_score(val_y, predictions, average='macro')\n",
    "\n",
    "    # Modified confusion matrix handling for multiclass\n",
    "    cm = confusion_matrix(val_y, predictions)\n",
    "    tn = cm[0, 0]\n",
    "    fp = cm[0, 1:].sum()\n",
    "    fn = cm[1:, 0].sum()\n",
    "    tp = cm[1:, 1:].sum()\n",
    "\n",
    "    specificity = tn / (tn + fp)\n",
    "    sensitivity = tp / (tp + fn)\n",
    "\n",
    "    return accuracy, precision, recall, f1, specificity, sensitivity"
   ]
  },
  {
   "cell_type": "code",
   "execution_count": null,
   "id": "5cebd551",
   "metadata": {},
   "outputs": [],
   "source": [
    "def k_fold_cross_validation(X, y, k):\n",
    "    data = np.column_stack((X, y))\n",
    "    np.random.shuffle(data)\n",
    "\n",
    "    fold_size = len(data) // k\n",
    "    total_metrics = []\n",
    "\n",
    "    for i in range(k):\n",
    "        start_val = i * fold_size\n",
    "        end_val = (i + 1) * fold_size\n",
    "        val_data = data[start_val:end_val]\n",
    "        val_X, val_y = val_data[:, :-1], val_data[:, -1]\n",
    "\n",
    "        # Convert validation labels to int type\n",
    "        val_y = val_y.astype(int)\n",
    "\n",
    "        train_data = np.concatenate([data[:start_val], data[end_val:]])\n",
    "        train_X, train_y = train_data[:, :-1], train_data[:, -1]\n",
    "\n",
    "        # Convert training labels to int type\n",
    "        train_y = train_y.astype(int)\n",
    "\n",
    "        metrics = knn_train_and_evaluate(train_X, train_y, val_X, val_y)\n",
    "        total_metrics.append(metrics)\n",
    "\n",
    "    avg_metrics = np.mean(total_metrics, axis=0)\n",
    "\n",
    "    return tuple(avg_metrics)"
   ]
  },
  {
   "cell_type": "markdown",
   "id": "a2e1a17f",
   "metadata": {},
   "source": [
    "* Calculate the classification measures. (Accuracy, Recall, Precision, Sensitivity,\n",
    "  specificity, F1 Score)"
   ]
  },
  {
   "cell_type": "code",
   "execution_count": 314,
   "id": "6cf0671d",
   "metadata": {},
   "outputs": [
    {
     "name": "stdout",
     "output_type": "stream",
     "text": [
      "Average Accuracy: 0.21707632600258733\n",
      "Average Precision: 0.22996932994279445\n",
      "Average Recall: 0.23656178348549356\n",
      "Average F1 Score: 0.21521340252249818\n",
      "Average Specificity: 0.680428970006975\n",
      "Average Sensitivity: 0.9721245329949589\n"
     ]
    }
   ],
   "source": [
    "# Store the results in a single variable\n",
    "avg_accuracy, avg_precision, avg_recall, avg_f1, avg_specificity, avg_sensitivity = k_fold_cross_validation(X, y, k=5)\n",
    "\n",
    "# Print or use the average metrics as needed\n",
    "print(\"Average Accuracy:\", avg_accuracy)\n",
    "print(\"Average Precision:\", avg_precision)\n",
    "print(\"Average Recall:\", avg_recall)\n",
    "print(\"Average F1 Score:\", avg_f1)\n",
    "print(\"Average Specificity:\", avg_specificity)\n",
    "print(\"Average Sensitivity:\", avg_sensitivity)\n"
   ]
  },
  {
   "cell_type": "markdown",
   "id": "f4a731ec",
   "metadata": {},
   "source": [
    "* Find the optimized K value and plot cross-validation and test accuracy based on the K values. You can tune your model on multiple K iterations."
   ]
  },
  {
   "cell_type": "code",
   "execution_count": 315,
   "id": "612f59da",
   "metadata": {},
   "outputs": [
    {
     "data": {
      "image/png": "[encoded data removed]",
      "text/plain": [
       "<Figure size 1000x600 with 1 Axes>"
      ]
     },
     "metadata": {},
     "output_type": "display_data"
    },
    {
     "name": "stdout",
     "output_type": "stream",
     "text": [
      "Optimal K value based on cross-validation: 1\n"
     ]
    }
   ],
   "source": [
    "# Define a range of K values to try\n",
    "k_values = np.arange(1, 21)  # Adjust the range as needed\n",
    "\n",
    "# Lists to store cross-validation and test accuracies for each K\n",
    "cv_accuracies = []\n",
    "test_accuracies = []\n",
    "\n",
    "# Perform grid search over K values\n",
    "for k in k_values:\n",
    "    # Create a KNeighborsClassifier with the current K value\n",
    "    knn_model = KNeighborsClassifier(n_neighbors=k)\n",
    "\n",
    "    # Cross-validation on training data\n",
    "    cv_accuracy = np.mean(cross_val_score(knn_model, X_train, y_train, cv=5))\n",
    "    cv_accuracies.append(cv_accuracy)\n",
    "\n",
    "    # Evaluate on the test set\n",
    "    knn_model.fit(X_train, y_train)\n",
    "    test_accuracy = knn_model.score(X_test, y_test)\n",
    "    test_accuracies.append(test_accuracy)\n",
    "\n",
    "# Plot the results\n",
    "plt.figure(figsize=(10, 6))\n",
    "plt.plot(k_values, cv_accuracies, label='Cross-Validation Accuracy', marker='o')\n",
    "plt.plot(k_values, test_accuracies, label='Test Accuracy', marker='o')\n",
    "plt.xlabel('K Values')\n",
    "plt.ylabel('Accuracy')\n",
    "plt.title('KNN Model: Cross-Validation and Test Accuracy vs. K Values')\n",
    "plt.legend()\n",
    "plt.grid(True)\n",
    "plt.show()\n",
    "\n",
    "# Find the K value with the highest cross-validation accuracy\n",
    "best_k = k_values[np.argmax(cv_accuracies)]\n",
    "print(f'Optimal K value based on cross-validation: {best_k}')"
   ]
  },
  {
   "cell_type": "code",
   "execution_count": 318,
   "id": "22c99121",
   "metadata": {},
   "outputs": [
    {
     "data": {
      "text/plain": [
       "[0.22218998175363752,\n",
       " 0.2108735772804032,\n",
       " 0.20311129235482644,\n",
       " 0.20213728165796177,\n",
       " 0.19372983881508438,\n",
       " 0.1853218731537975,\n",
       " 0.1772364864511609,\n",
       " 0.17368236690350342,\n",
       " 0.17173905087545943,\n",
       " 0.16947629279922205,\n",
       " 0.1672109206309373,\n",
       " 0.16688572758023953,\n",
       " 0.1639778115867016,\n",
       " 0.15815622859712136,\n",
       " 0.1617124394184168,\n",
       " 0.16074313408723748,\n",
       " 0.1571884917211705,\n",
       " 0.15912762520193863,\n",
       " 0.1581557057787119,\n",
       " 0.16300798343711276]"
      ]
     },
     "execution_count": 318,
     "metadata": {},
     "output_type": "execute_result"
    }
   ],
   "source": [
    "# Cross-Validation Accuracy\n",
    "cv_accuracies"
   ]
  },
  {
   "cell_type": "code",
   "execution_count": 320,
   "id": "378bbad3",
   "metadata": {},
   "outputs": [
    {
     "data": {
      "text/plain": [
       "[0.2532299741602067,\n",
       " 0.23255813953488372,\n",
       " 0.2131782945736434,\n",
       " 0.20930232558139536,\n",
       " 0.22093023255813954,\n",
       " 0.2131782945736434,\n",
       " 0.19896640826873385,\n",
       " 0.2054263565891473,\n",
       " 0.21705426356589147,\n",
       " 0.20801033591731266,\n",
       " 0.20671834625322996,\n",
       " 0.20025839793281655,\n",
       " 0.19638242894056848,\n",
       " 0.18733850129198967,\n",
       " 0.18733850129198967,\n",
       " 0.18604651162790697,\n",
       " 0.17571059431524547,\n",
       " 0.17054263565891473,\n",
       " 0.16925064599483206,\n",
       " 0.165374677002584]"
      ]
     },
     "execution_count": 320,
     "metadata": {},
     "output_type": "execute_result"
    }
   ],
   "source": [
    "# show Accuracies\n",
    "test_accuracies"
   ]
  },
  {
   "cell_type": "markdown",
   "id": "57e539e4",
   "metadata": {},
   "source": [
    "# Question#2: Apply the data dimensionality reduction technique PCA on the dataset and implement all the subparts of question1."
   ]
  },
  {
   "cell_type": "code",
   "execution_count": 326,
   "id": "dcfe0bfd",
   "metadata": {},
   "outputs": [
    {
     "data": {
      "text/html": [
       "<div>\n",
       "<style scoped>\n",
       "    .dataframe tbody tr th:only-of-type {\n",
       "        vertical-align: middle;\n",
       "    }\n",
       "\n",
       "    .dataframe tbody tr th {\n",
       "        vertical-align: top;\n",
       "    }\n",
       "\n",
       "    .dataframe thead th {\n",
       "        text-align: right;\n",
       "    }\n",
       "</style>\n",
       "<table border=\"1\" class=\"dataframe\">\n",
       "  <thead>\n",
       "    <tr style=\"text-align: right;\">\n",
       "      <th></th>\n",
       "      <th>0</th>\n",
       "      <th>1</th>\n",
       "      <th>2</th>\n",
       "      <th>3</th>\n",
       "      <th>4</th>\n",
       "      <th>5</th>\n",
       "      <th>6</th>\n",
       "      <th>7</th>\n",
       "      <th>8</th>\n",
       "      <th>9</th>\n",
       "      <th>...</th>\n",
       "      <th>992</th>\n",
       "      <th>993</th>\n",
       "      <th>994</th>\n",
       "      <th>995</th>\n",
       "      <th>996</th>\n",
       "      <th>997</th>\n",
       "      <th>998</th>\n",
       "      <th>999</th>\n",
       "      <th>Labels</th>\n",
       "      <th>Encoded_Labels</th>\n",
       "    </tr>\n",
       "  </thead>\n",
       "  <tbody>\n",
       "    <tr>\n",
       "      <th>0</th>\n",
       "      <td>2.3309</td>\n",
       "      <td>2.3309</td>\n",
       "      <td>2.3309</td>\n",
       "      <td>2.3309</td>\n",
       "      <td>2.3309</td>\n",
       "      <td>2.3309</td>\n",
       "      <td>2.3309</td>\n",
       "      <td>2.3309</td>\n",
       "      <td>2.3309</td>\n",
       "      <td>2.3309</td>\n",
       "      <td>...</td>\n",
       "      <td>2.7228</td>\n",
       "      <td>2.7228</td>\n",
       "      <td>2.7228</td>\n",
       "      <td>2.7228</td>\n",
       "      <td>2.7228</td>\n",
       "      <td>2.7228</td>\n",
       "      <td>2.7228</td>\n",
       "      <td>2.7228</td>\n",
       "      <td>unhealthy_0.7inner</td>\n",
       "      <td>1</td>\n",
       "    </tr>\n",
       "    <tr>\n",
       "      <th>1</th>\n",
       "      <td>2.7228</td>\n",
       "      <td>2.7228</td>\n",
       "      <td>2.7228</td>\n",
       "      <td>2.7228</td>\n",
       "      <td>2.7228</td>\n",
       "      <td>2.7228</td>\n",
       "      <td>2.7228</td>\n",
       "      <td>2.7228</td>\n",
       "      <td>2.7228</td>\n",
       "      <td>2.7228</td>\n",
       "      <td>...</td>\n",
       "      <td>2.9524</td>\n",
       "      <td>2.9524</td>\n",
       "      <td>2.9524</td>\n",
       "      <td>2.9524</td>\n",
       "      <td>2.9524</td>\n",
       "      <td>2.9524</td>\n",
       "      <td>2.9524</td>\n",
       "      <td>2.9524</td>\n",
       "      <td>unhealthy_0.7inner</td>\n",
       "      <td>1</td>\n",
       "    </tr>\n",
       "    <tr>\n",
       "      <th>2</th>\n",
       "      <td>2.9524</td>\n",
       "      <td>2.9524</td>\n",
       "      <td>2.9524</td>\n",
       "      <td>2.9524</td>\n",
       "      <td>2.9524</td>\n",
       "      <td>2.9524</td>\n",
       "      <td>2.9524</td>\n",
       "      <td>2.9524</td>\n",
       "      <td>2.9524</td>\n",
       "      <td>2.9524</td>\n",
       "      <td>...</td>\n",
       "      <td>2.1111</td>\n",
       "      <td>2.1111</td>\n",
       "      <td>2.1111</td>\n",
       "      <td>2.1111</td>\n",
       "      <td>2.1111</td>\n",
       "      <td>2.1111</td>\n",
       "      <td>2.1111</td>\n",
       "      <td>2.1111</td>\n",
       "      <td>unhealthy_0.7inner</td>\n",
       "      <td>1</td>\n",
       "    </tr>\n",
       "    <tr>\n",
       "      <th>3</th>\n",
       "      <td>2.1111</td>\n",
       "      <td>2.1111</td>\n",
       "      <td>2.1111</td>\n",
       "      <td>2.1111</td>\n",
       "      <td>2.1111</td>\n",
       "      <td>2.1111</td>\n",
       "      <td>2.1111</td>\n",
       "      <td>2.1111</td>\n",
       "      <td>2.1111</td>\n",
       "      <td>2.1111</td>\n",
       "      <td>...</td>\n",
       "      <td>2.1282</td>\n",
       "      <td>2.1282</td>\n",
       "      <td>2.1282</td>\n",
       "      <td>2.1282</td>\n",
       "      <td>2.1282</td>\n",
       "      <td>2.1282</td>\n",
       "      <td>2.1282</td>\n",
       "      <td>2.1282</td>\n",
       "      <td>unhealthy_0.7inner</td>\n",
       "      <td>1</td>\n",
       "    </tr>\n",
       "    <tr>\n",
       "      <th>4</th>\n",
       "      <td>2.1282</td>\n",
       "      <td>2.1282</td>\n",
       "      <td>2.1282</td>\n",
       "      <td>2.1282</td>\n",
       "      <td>2.1282</td>\n",
       "      <td>2.1282</td>\n",
       "      <td>2.1282</td>\n",
       "      <td>2.1282</td>\n",
       "      <td>2.1282</td>\n",
       "      <td>2.1282</td>\n",
       "      <td>...</td>\n",
       "      <td>2.9805</td>\n",
       "      <td>2.9805</td>\n",
       "      <td>2.9805</td>\n",
       "      <td>3.0024</td>\n",
       "      <td>3.0024</td>\n",
       "      <td>3.0024</td>\n",
       "      <td>3.0024</td>\n",
       "      <td>3.0024</td>\n",
       "      <td>unhealthy_0.7inner</td>\n",
       "      <td>1</td>\n",
       "    </tr>\n",
       "  </tbody>\n",
       "</table>\n",
       "<p>5 rows × 1002 columns</p>\n",
       "</div>"
      ],
      "text/plain": [
       "        0       1       2       3       4       5       6       7       8  \\\n",
       "0  2.3309  2.3309  2.3309  2.3309  2.3309  2.3309  2.3309  2.3309  2.3309   \n",
       "1  2.7228  2.7228  2.7228  2.7228  2.7228  2.7228  2.7228  2.7228  2.7228   \n",
       "2  2.9524  2.9524  2.9524  2.9524  2.9524  2.9524  2.9524  2.9524  2.9524   \n",
       "3  2.1111  2.1111  2.1111  2.1111  2.1111  2.1111  2.1111  2.1111  2.1111   \n",
       "4  2.1282  2.1282  2.1282  2.1282  2.1282  2.1282  2.1282  2.1282  2.1282   \n",
       "\n",
       "        9  ...     992     993     994     995     996     997     998  \\\n",
       "0  2.3309  ...  2.7228  2.7228  2.7228  2.7228  2.7228  2.7228  2.7228   \n",
       "1  2.7228  ...  2.9524  2.9524  2.9524  2.9524  2.9524  2.9524  2.9524   \n",
       "2  2.9524  ...  2.1111  2.1111  2.1111  2.1111  2.1111  2.1111  2.1111   \n",
       "3  2.1111  ...  2.1282  2.1282  2.1282  2.1282  2.1282  2.1282  2.1282   \n",
       "4  2.1282  ...  2.9805  2.9805  2.9805  3.0024  3.0024  3.0024  3.0024   \n",
       "\n",
       "      999              Labels  Encoded_Labels  \n",
       "0  2.7228  unhealthy_0.7inner               1  \n",
       "1  2.9524  unhealthy_0.7inner               1  \n",
       "2  2.1111  unhealthy_0.7inner               1  \n",
       "3  2.1282  unhealthy_0.7inner               1  \n",
       "4  3.0024  unhealthy_0.7inner               1  \n",
       "\n",
       "[5 rows x 1002 columns]"
      ]
     },
     "execution_count": 326,
     "metadata": {},
     "output_type": "execute_result"
    }
   ],
   "source": [
    "Label_data.head()"
   ]
  },
  {
   "cell_type": "code",
   "execution_count": 333,
   "id": "87b9b01c",
   "metadata": {},
   "outputs": [
    {
     "name": "stdout",
     "output_type": "stream",
     "text": [
      "Results without PCA:\n",
      "Accuracy: 0.22093023255813954\n",
      "Precision: 0.2190861078759804\n",
      "Recall: 0.22093023255813954\n",
      "F1 Score: 0.21508002622238678\n",
      "\n",
      "Results with PCA:\n",
      "Accuracy (PCA): 0.19767441860465115\n",
      "Precision (PCA): 0.2191027806659553\n",
      "Recall (PCA): 0.20736202854817515\n",
      "F1 Score (PCA): 0.20135993730762913\n",
      "Specificity (PCA): 0.5238095238095238\n",
      "Sensitivity (PCA): 0.9800796812749004\n",
      "\n",
      "Average Metrics with PCA (10-fold cross-validation):\n",
      "Average Accuracy: 0.20893099488464348\n",
      "Average Precision: 0.2411351522035367\n",
      "Average Recall: 0.23085108063546073\n",
      "Average F1 Score: 0.21078503074634175\n",
      "Average Specificity: 0.6297727272727272\n",
      "Average Sensitivity: 0.9757702787229384\n"
     ]
    }
   ],
   "source": [
    "# Assuming X and y are your feature and target arrays\n",
    "X_train, X_test, y_train, y_test = train_test_split(X, y, test_size=0.2, random_state=42)\n",
    "\n",
    "# Apply PCA\n",
    "pca = PCA(n_components=10)  # Specify the number of components you want\n",
    "X_train_pca = pca.fit_transform(X_train)\n",
    "X_test_pca = pca.transform(X_test)\n",
    "\n",
    "# Define k-NN model\n",
    "knn_model = KNeighborsClassifier(n_neighbors=3)\n",
    "\n",
    "# Fit the model and make predictions\n",
    "knn_model.fit(X_train_pca, y_train)\n",
    "predictions_pca = knn_model.predict(X_test_pca)\n",
    "\n",
    "# Evaluate the model performance\n",
    "accuracy_pca = accuracy_score(y_test, predictions_pca)\n",
    "precision_pca = precision_score(y_test, predictions_pca, average='macro')\n",
    "recall_pca = recall_score(y_test, predictions_pca, average='macro')\n",
    "f1_pca = f1_score(y_test, predictions_pca, average='macro')\n",
    "\n",
    "# Modified confusion matrix handling for multiclass\n",
    "cm_pca = confusion_matrix(y_test, predictions_pca)\n",
    "tn_pca = cm_pca[0, 0]\n",
    "fp_pca = cm_pca[0, 1:].sum()\n",
    "fn_pca = cm_pca[1:, 0].sum()\n",
    "tp_pca = cm_pca[1:, 1:].sum()\n",
    "\n",
    "specificity_pca = tn_pca / (tn_pca + fp_pca)\n",
    "sensitivity_pca = tp_pca / (tp_pca + fn_pca)\n",
    "\n",
    "print(\"Results without PCA:\")\n",
    "print(\"Accuracy:\", accuracy)\n",
    "print(\"Precision:\", precision)\n",
    "print(\"Recall:\", recall)\n",
    "print(\"F1 Score:\", f1)\n",
    "\n",
    "print(\"\\nResults with PCA:\")\n",
    "print(\"Accuracy (PCA):\", accuracy_pca)\n",
    "print(\"Precision (PCA):\", precision_pca)\n",
    "print(\"Recall (PCA):\", recall_pca)\n",
    "print(\"F1 Score (PCA):\", f1_pca)\n",
    "print(\"Specificity (PCA):\", specificity_pca)\n",
    "print(\"Sensitivity (PCA):\", sensitivity_pca)\n",
    "\n",
    "# 10-fold cross-validation with PCA\n",
    "kf = KFold(n_splits=10, random_state=42, shuffle=True)\n",
    "total_metrics_pca = []\n",
    "\n",
    "for train_index, val_index in kf.split(X_train):  # Use X_train here\n",
    "    X_train_cv, X_val_cv = X_train.iloc[train_index], X_train.iloc[val_index]\n",
    "    y_train_cv, y_val_cv = y_train.iloc[train_index], y_train.iloc[val_index]\n",
    "\n",
    "    # Apply PCA\n",
    "    X_train_cv_pca = pca.fit_transform(X_train_cv)\n",
    "    X_val_cv_pca = pca.transform(X_val_cv)\n",
    "\n",
    "    # Train and evaluate k-NN model\n",
    "    metrics_cv = knn_train_and_evaluate(X_train_cv_pca, y_train_cv, X_val_cv_pca, y_val_cv)\n",
    "    total_metrics_pca.append(metrics_cv)\n",
    "\n",
    "# Calculate average metrics over 10 folds\n",
    "avg_metrics_pca = np.mean(total_metrics_pca, axis=0)\n",
    "\n",
    "print(\"\\nAverage Metrics with PCA (10-fold cross-validation):\")\n",
    "print(\"Average Accuracy:\", avg_metrics_pca[0])\n",
    "print(\"Average Precision:\", avg_metrics_pca[1])\n",
    "print(\"Average Recall:\", avg_metrics_pca[2])\n",
    "print(\"Average F1 Score:\", avg_metrics_pca[3])\n",
    "print(\"Average Specificity:\", avg_metrics_pca[4])\n",
    "print(\"Average Sensitivity:\", avg_metrics_pca[5])"
   ]
  },
  {
   "cell_type": "markdown",
   "id": "19dd8149",
   "metadata": {},
   "source": [
    "# Question#3: Which model gives the best accuracy and why?"
   ]
  },
  {
   "cell_type": "markdown",
   "id": "96dd6407",
   "metadata": {},
   "source": [
    "Based on the provided results:\n",
    "\n",
    "Results without PCA (Holdout Method):\n",
    "\n",
    "Accuracy: 0.2209\n",
    "Precision: 0.2191\n",
    "Recall: 0.2209\n",
    "F1 Score: 0.2151\n",
    "Results with PCA (Holdout Method):\n",
    "\n",
    "Accuracy: 0.1977\n",
    "Precision: 0.2191\n",
    "Recall: 0.2074\n",
    "F1 Score: 0.2014\n",
    "Specificity: 0.5238\n",
    "Sensitivity: 0.9801\n",
    "Average Metrics with PCA (10-Fold Cross-Validation):\n",
    "\n",
    "Average Accuracy: 0.2089\n",
    "Average Precision: 0.2411\n",
    "Average Recall: 0.2309\n",
    "Average F1 Score: 0.2108\n",
    "Average Specificity: 0.6298\n",
    "Average Sensitivity: 0.9758\n",
    "Based on these results, it seems that the model without PCA performed slightly better in terms of accuracy in both the holdout method and the 10-fold cross-validation. However, the choice of the best model may depend on the specific requirements of your application and the importance of different metrics. The model with PCA might offer advantages in terms of dimensionality reduction and feature interpretability.\n",
    "\n",
    "Consider the trade-offs between model complexity, interpretability, and performance to make a decision based on the specific needs of your task."
   ]
  },
  {
   "cell_type": "code",
   "execution_count": null,
   "id": "ae0d6348",
   "metadata": {},
   "outputs": [],
   "source": []
  },
  {
   "cell_type": "code",
   "execution_count": null,
   "id": "cab27454",
   "metadata": {},
   "outputs": [],
   "source": []
  }
 ],
 "metadata": {
  "kernelspec": {
   "display_name": "Python 3 (ipykernel)",
   "language": "python",
   "name": "python3"
  },
  "language_info": {
   "codemirror_mode": {
    "name": "ipython",
    "version": 3
   },
   "file_extension": ".py",
   "mimetype": "text/x-python",
   "name": "python",
   "nbconvert_exporter": "python",
   "pygments_lexer": "ipython3",
   "version": "3.11.5"
  }
 },
 "nbformat": 4,
 "nbformat_minor": 5
}
